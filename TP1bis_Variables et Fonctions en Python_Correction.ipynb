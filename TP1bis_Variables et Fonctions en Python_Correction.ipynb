{
 "cells": [
  {
   "cell_type": "markdown",
   "metadata": {},
   "source": [
    "# TP 1bis : Variables et fonctions en Python\n",
    "# Correction\n",
    "\n",
    "\n",
    "\n",
    "## 1- Une fonction en Python\n",
    "\n"
   ]
  },
  {
   "cell_type": "markdown",
   "metadata": {},
   "source": [
    "<span style='color:green'>**Exemple 1**</span> : une fonction peut avoir plusieurs paramètres.\n",
    " \n",
    "On considère le programme en Python suivant :"
   ]
  },
  {
   "cell_type": "code",
   "execution_count": 4,
   "metadata": {},
   "outputs": [],
   "source": [
    "def somme_produit(a,b):\n",
    "    s = a + b\n",
    "    p = a * b\n",
    "    return s, p"
   ]
  },
  {
   "cell_type": "markdown",
   "metadata": {},
   "source": [
    "Utiliser ce programme pour calculer la somme et le produit de 6 et de 7."
   ]
  },
  {
   "cell_type": "code",
   "execution_count": 5,
   "metadata": {},
   "outputs": [
    {
     "data": {
      "text/plain": [
       "(13, 42)"
      ]
     },
     "execution_count": 5,
     "metadata": {},
     "output_type": "execute_result"
    }
   ],
   "source": [
    "somme_produit(6,7)"
   ]
  },
  {
   "cell_type": "markdown",
   "metadata": {},
   "source": [
    " <span style='color:green'>**Exemple 2**</span> : une fonction peut ne pas avoir de paramètres\n",
    " \n",
    " En voici un exemple que vous pouvez tester.\n",
    " "
   ]
  },
  {
   "cell_type": "code",
   "execution_count": 6,
   "metadata": {},
   "outputs": [],
   "source": [
    "def demande_prenom_nom():\n",
    "    prenom=input(\"Quel est ton prénom ? \")\n",
    "    nom=input(\"Quel est ton nom ? \")\n",
    "    return prenom+nom"
   ]
  },
  {
   "cell_type": "code",
   "execution_count": 7,
   "metadata": {},
   "outputs": [
    {
     "name": "stdout",
     "output_type": "stream",
     "text": [
      "Quel est ton prénom ? Nathalie\n",
      "Quel est ton nom ? Falguières\n"
     ]
    },
    {
     "data": {
      "text/plain": [
       "'NathalieFalguières'"
      ]
     },
     "execution_count": 7,
     "metadata": {},
     "output_type": "execute_result"
    }
   ],
   "source": [
    "demande_prenom_nom()"
   ]
  },
  {
   "cell_type": "markdown",
   "metadata": {},
   "source": [
    "Le prénom et le nom ne sont pas séparés par un espace...  \n",
    "Pour pallier à ce problème, on peut écrire le code suivant :  "
   ]
  },
  {
   "cell_type": "code",
   "execution_count": 8,
   "metadata": {},
   "outputs": [],
   "source": [
    "def demande_prenom_nom():\n",
    "    prenom=input(\"Quel est ton prénom ? \")\n",
    "    nom=input(\"Quel est ton nom ? \")\n",
    "    return prenom+\" \"+nom"
   ]
  },
  {
   "cell_type": "code",
   "execution_count": 9,
   "metadata": {},
   "outputs": [
    {
     "name": "stdout",
     "output_type": "stream",
     "text": [
      "Quel est ton prénom ? Nathalie\n",
      "Quel est ton nom ? Falguières\n"
     ]
    },
    {
     "data": {
      "text/plain": [
       "'Nathalie Falguières'"
      ]
     },
     "execution_count": 9,
     "metadata": {},
     "output_type": "execute_result"
    }
   ],
   "source": [
    "demande_prenom_nom()"
   ]
  },
  {
   "cell_type": "markdown",
   "metadata": {},
   "source": [
    "## 3- A vous de jouer !"
   ]
  },
  {
   "attachments": {
    "TP1_image%203.png": {
     "image/png": "[encoded data removed]"
    }
   },
   "cell_type": "markdown",
   "metadata": {},
   "source": [
    "<span style='color:blue'>**Exercice 1**</span> :\n",
    "\n",
    "Compléter la fonction *pave(h,L,l)* pour qu'elle affiche l'aire des 6 faces du pavé droit en plus de son volume :\n",
    "\n",
    "![TP1_image%203.png](attachment:TP1_image%203.png)"
   ]
  },
  {
   "cell_type": "code",
   "execution_count": 14,
   "metadata": {},
   "outputs": [],
   "source": [
    "def pave(h,L,l):\n",
    "    S=2*h*L+2*l*h+2*L*l\n",
    "    V=h*L*l\n",
    "    return S,V\n"
   ]
  },
  {
   "cell_type": "markdown",
   "metadata": {},
   "source": [
    "Appliquer alors la fonction dans le cas où $h=3$, $L=4$ et $l=2$ :"
   ]
  },
  {
   "cell_type": "code",
   "execution_count": 15,
   "metadata": {},
   "outputs": [
    {
     "data": {
      "text/plain": [
       "(52, 24)"
      ]
     },
     "execution_count": 15,
     "metadata": {},
     "output_type": "execute_result"
    }
   ],
   "source": [
    "pave(3,4,2)"
   ]
  },
  {
   "cell_type": "markdown",
   "metadata": {},
   "source": [
    "<span style='color:blue'>**Exercice 2**</span> :\n",
    "\n",
    "Le triangle ABC est rectangle en A.\n",
    "On sait que AB = 3 cm.\n",
    "\n",
    "1) On suppose AC = 4 cm. Calculer la longueur BC.\n",
    "\n",
    "Le théorème de Pythagore dans le triangle ABC rectangle en A donne :\n",
    "BC² = AB² + AC² = 3² + 4² = 25 donc BC = $\\sqrt{25}=25$"
   ]
  },
  {
   "cell_type": "markdown",
   "metadata": {},
   "source": [
    "2) On note AC = $x$ cm. Ecrire une fonction Hypoténuse d'argument $x$ permettant de calculer la longueur BC en fonction de $x$, la longueur du côté [AC].  \n",
    "*Aide : en Python, sqrt(a) donne la racine carrée de a.*  \n",
    "*Au préalable, il faut, pour pouvoir utiliser cette fonction, appeler le module math en mettant au début* __*from math import **__."
   ]
  },
  {
   "cell_type": "code",
   "execution_count": 12,
   "metadata": {},
   "outputs": [],
   "source": [
    "from math import *\n",
    "def Hypotenuse(x):\n",
    "    y=sqrt(x**2+3**2)\n",
    "    return y"
   ]
  },
  {
   "cell_type": "markdown",
   "metadata": {},
   "source": [
    "3) Contrôler l'affichage avec $x$=4."
   ]
  },
  {
   "cell_type": "code",
   "execution_count": 13,
   "metadata": {},
   "outputs": [
    {
     "data": {
      "text/plain": [
       "5.0"
      ]
     },
     "execution_count": 13,
     "metadata": {},
     "output_type": "execute_result"
    }
   ],
   "source": [
    "Hypotenuse(4)"
   ]
  },
  {
   "cell_type": "markdown",
   "metadata": {},
   "source": [
    "<span style='color:blue'>**Exercice 4**</span> : \n",
    " \n",
    " Un commerçant accorde une remise sur des articles. On souhaite connaître le prix final après remise.  \n",
    "\n",
    "1) Calculer le prix, après une remise de 30 %, d'un article coûtant au départ 56 €.  "
   ]
  },
  {
   "cell_type": "markdown",
   "metadata": {},
   "source": [
    "56-56x30/100=39,2€"
   ]
  },
  {
   "cell_type": "markdown",
   "metadata": {},
   "source": [
    "2) On souhaite automatiser ce calcul.\n",
    "\n",
    "Compléter la fonction d'arguments x et R en Python permettant de calculer le prix, après une remise de $R$ %, d'un article coûtant au départ $x$ €."
   ]
  },
  {
   "cell_type": "code",
   "execution_count": 18,
   "metadata": {},
   "outputs": [],
   "source": [
    "def Prix_final(x,R):\n",
    "  F = x-x*R/100    #ou x*(1-R/100)\n",
    "  return F"
   ]
  },
  {
   "cell_type": "markdown",
   "metadata": {},
   "source": [
    "3) Contrôler le résultat obtenu en 1) en exécutant ce programme."
   ]
  },
  {
   "cell_type": "code",
   "execution_count": 19,
   "metadata": {},
   "outputs": [
    {
     "data": {
      "text/plain": [
       "39.2"
      ]
     },
     "execution_count": 19,
     "metadata": {},
     "output_type": "execute_result"
    }
   ],
   "source": [
    "Prix_final(56,30)"
   ]
  }
 ],
 "metadata": {
  "kernelspec": {
   "display_name": "Python 3",
   "language": "python",
   "name": "python3"
  },
  "language_info": {
   "codemirror_mode": {
    "name": "ipython",
    "version": 3
   },
   "file_extension": ".py",
   "mimetype": "text/x-python",
   "name": "python",
   "nbconvert_exporter": "python",
   "pygments_lexer": "ipython3",
   "version": "3.7.3"
  }
 },
 "nbformat": 4,
 "nbformat_minor": 4
}
